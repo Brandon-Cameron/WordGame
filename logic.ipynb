{
 "cells": [
  {
   "cell_type": "code",
   "execution_count": 305,
   "id": "55b9f6ac-b834-44b2-97d1-38be2e5153b9",
   "metadata": {},
   "outputs": [],
   "source": [
    "import DBcm"
   ]
  },
  {
   "cell_type": "code",
   "execution_count": 306,
   "id": "185df502-131d-422d-85a8-99d697fefdcd",
   "metadata": {},
   "outputs": [],
   "source": [
    "creds = {\n",
    "    \"host\": \"localhost\",\n",
    "    \"user\": \"wordgameuser\",\n",
    "    \"password\": \"wordgamepasswd\",\n",
    "    \"database\": \"wordgameDB\",\n",
    "}"
   ]
  },
  {
   "cell_type": "code",
   "execution_count": 307,
   "id": "3d04a8a6-8641-4a0b-9935-37b4deed7c17",
   "metadata": {},
   "outputs": [],
   "source": [
    "SQL = \"select * from leaderboard\""
   ]
  },
  {
   "cell_type": "code",
   "execution_count": 308,
   "id": "db1a9365-e5b5-44c4-821d-bd1b2382876c",
   "metadata": {},
   "outputs": [],
   "source": [
    "with DBcm.UseDatabase(creds) as db:\n",
    "    db.execute(SQL)\n",
    "    results = db.fetchall()"
   ]
  },
  {
   "cell_type": "code",
   "execution_count": 309,
   "id": "8823e726-922b-4a66-9a3a-353faf0bc777",
   "metadata": {},
   "outputs": [
    {
     "data": {
      "text/plain": [
       "[(15.65, 'Brandon', 'kerplunking', 'perk, gunk, pink, king, rink, grin, rung')]"
      ]
     },
     "execution_count": 309,
     "metadata": {},
     "output_type": "execute_result"
    }
   ],
   "source": [
    "results"
   ]
  },
  {
   "cell_type": "code",
   "execution_count": 310,
   "id": "756647a4-d7fc-4668-8f26-78a2db7a5c58",
   "metadata": {},
   "outputs": [],
   "source": [
    "global gameOver\n",
    "gameOver = False"
   ]
  },
  {
   "cell_type": "code",
   "execution_count": 311,
   "id": "2ed97e2e-6c21-42e2-92d2-770975a2c864",
   "metadata": {},
   "outputs": [],
   "source": [
    "sourceword = \"kerplunking\""
   ]
  },
  {
   "cell_type": "code",
   "execution_count": 312,
   "id": "4c2434b1-5176-46bf-8afd-ecb494bb292b",
   "metadata": {},
   "outputs": [],
   "source": [
    "ansInput = \"perk gunk pink king rink grin rung\""
   ]
  },
  {
   "cell_type": "code",
   "execution_count": 313,
   "id": "859066ad-1d75-42a7-8715-a132449fed9f",
   "metadata": {},
   "outputs": [],
   "source": [
    "ans = ansInput.split()"
   ]
  },
  {
   "cell_type": "raw",
   "id": "f531e445-2c90-47ee-a58c-0885b090c1d0",
   "metadata": {},
   "source": [
    "print(ans)\n",
    "print(ans[1])"
   ]
  },
  {
   "cell_type": "code",
   "execution_count": 314,
   "id": "f9a252f5-ff0e-4e24-9ba9-d78cb832e346",
   "metadata": {},
   "outputs": [
    {
     "name": "stdout",
     "output_type": "stream",
     "text": [
      "4\n"
     ]
    }
   ],
   "source": [
    "print(len(ans[1]))"
   ]
  },
  {
   "cell_type": "code",
   "execution_count": 315,
   "id": "78d8b9a2-e9d1-4310-a073-a1c3645070e1",
   "metadata": {},
   "outputs": [
    {
     "name": "stdout",
     "output_type": "stream",
     "text": [
      "['g', 'u', 'n', 'k']\n"
     ]
    }
   ],
   "source": [
    "print(list(ans[1]))"
   ]
  },
  {
   "cell_type": "code",
   "execution_count": 316,
   "id": "3cad84f9-9bbf-4efa-bb0e-8ac317d3bb59",
   "metadata": {},
   "outputs": [],
   "source": [
    "def checkAnsLen():\n",
    "     for word in ans:\n",
    "         if len(word) < 4:\n",
    "             print(\"AAAAAAAA\")\n",
    "             gameOver = True\n",
    "             break\n",
    "         else:\n",
    "             print(\"good\")"
   ]
  },
  {
   "cell_type": "code",
   "execution_count": 317,
   "id": "e29cbfeb-ee63-4050-8ae5-64c30e61bc5a",
   "metadata": {},
   "outputs": [],
   "source": [
    "def checkAnsValid():\n",
    "    validWord = True\n",
    "    \n",
    "    for word in ans:\n",
    "            if validWord == True:\n",
    "                print(word)\n",
    "                validWord = False\n",
    "                with open(\"words_alpha.txt\") as wordsfile:\n",
    "                    for x in wordsfile:\n",
    "                        if x.strip() == word:\n",
    "                            print(\"Good\")\n",
    "                            validWord = True\n",
    "                            break\n",
    "            else:\n",
    "                print(\"Invalid Word\")\n",
    "                gameOver = True\n",
    "                break"
   ]
  },
  {
   "cell_type": "code",
   "execution_count": 318,
   "id": "2aacbd94-c2ad-4963-b874-0b81a1e461c2",
   "metadata": {},
   "outputs": [],
   "source": [
    "def checkAnsMatch():\n",
    "    charFound = True\n",
    "    \n",
    "    for word in ans:\n",
    "        if word == sourceword:\n",
    "            print(\"Sourceword Used\")\n",
    "            gameOver = True\n",
    "            break\n",
    "        else:\n",
    "            tempSourceWord = sourceword\n",
    "        \n",
    "            print(word)\n",
    "            \n",
    "            for char in word:\n",
    "                if charFound == True:\n",
    "                    charFound = False\n",
    "                    for sourceChar in tempSourceWord:\n",
    "                        if char == sourceChar:\n",
    "                            tempSourceWord = tempSourceWord.replace(char, \"\", 1)\n",
    "                            charFound = True\n",
    "                            break\n",
    "                    print(\"Match\")\n",
    "                else:\n",
    "                    print(\"Word Not in Source\")\n",
    "                    gameOver = True"
   ]
  },
  {
   "cell_type": "code",
   "execution_count": 319,
   "id": "9e4f9f53-d302-455e-baeb-ea2bf2f8187b",
   "metadata": {},
   "outputs": [],
   "source": [
    "def checkAnsDup():\n",
    "    if len(ans) != len(set(ans)):\n",
    "        print(\"Dup\")\n",
    "        gameOver = True"
   ]
  },
  {
   "cell_type": "code",
   "execution_count": 320,
   "id": "17f239a1-d20c-4910-a3ed-f263a55f804d",
   "metadata": {},
   "outputs": [],
   "source": [
    "checkAnsDup()"
   ]
  },
  {
   "cell_type": "code",
   "execution_count": 321,
   "id": "44001519-8a35-45bc-93a9-d57942a24d5f",
   "metadata": {},
   "outputs": [
    {
     "name": "stdout",
     "output_type": "stream",
     "text": [
      "good\n",
      "good\n",
      "good\n",
      "good\n",
      "good\n",
      "good\n",
      "good\n"
     ]
    }
   ],
   "source": [
    "checkAnsLen()"
   ]
  },
  {
   "cell_type": "code",
   "execution_count": 322,
   "id": "e8cdaf31-63cb-4af8-86ea-08180f82ad13",
   "metadata": {},
   "outputs": [
    {
     "name": "stdout",
     "output_type": "stream",
     "text": [
      "perk\n",
      "Match\n",
      "Match\n",
      "Match\n",
      "Match\n",
      "gunk\n",
      "Match\n",
      "Match\n",
      "Match\n",
      "Match\n",
      "pink\n",
      "Match\n",
      "Match\n",
      "Match\n",
      "Match\n",
      "king\n",
      "Match\n",
      "Match\n",
      "Match\n",
      "Match\n",
      "rink\n",
      "Match\n",
      "Match\n",
      "Match\n",
      "Match\n",
      "grin\n",
      "Match\n",
      "Match\n",
      "Match\n",
      "Match\n",
      "rung\n",
      "Match\n",
      "Match\n",
      "Match\n",
      "Match\n"
     ]
    }
   ],
   "source": [
    "checkAnsMatch()"
   ]
  },
  {
   "cell_type": "code",
   "execution_count": 323,
   "id": "0baacb49-1d92-4e89-a4b9-a8407bd90e28",
   "metadata": {},
   "outputs": [
    {
     "name": "stdout",
     "output_type": "stream",
     "text": [
      "perk\n",
      "Good\n",
      "gunk\n",
      "Good\n",
      "pink\n",
      "Good\n",
      "king\n",
      "Good\n",
      "rink\n",
      "Good\n",
      "grin\n",
      "Good\n",
      "rung\n",
      "Good\n"
     ]
    }
   ],
   "source": [
    "checkAnsValid()"
   ]
  }
 ],
 "metadata": {
  "kernelspec": {
   "display_name": "Python 3 (ipykernel)",
   "language": "python",
   "name": "python3"
  },
  "language_info": {
   "codemirror_mode": {
    "name": "ipython",
    "version": 3
   },
   "file_extension": ".py",
   "mimetype": "text/x-python",
   "name": "python",
   "nbconvert_exporter": "python",
   "pygments_lexer": "ipython3",
   "version": "3.13.7"
  }
 },
 "nbformat": 4,
 "nbformat_minor": 5
}
